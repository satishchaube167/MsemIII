{
  "nbformat": 4,
  "nbformat_minor": 0,
  "metadata": {
    "colab": {
      "provenance": [],
      "authorship_tag": "ABX9TyPN5IuCbXFOFPOpSDqArW3C",
      "include_colab_link": true
    },
    "kernelspec": {
      "name": "python3",
      "display_name": "Python 3"
    },
    "language_info": {
      "name": "python"
    }
  },
  "cells": [
    {
      "cell_type": "markdown",
      "metadata": {
        "id": "view-in-github",
        "colab_type": "text"
      },
      "source": [
        "<a href=\"https://colab.research.google.com/github/satishchaube167/MsemIII/blob/main/Untitled0.ipynb\" target=\"_parent\"><img src=\"https://colab.research.google.com/assets/colab-badge.svg\" alt=\"Open In Colab\"/></a>"
      ]
    },
    {
      "cell_type": "code",
      "execution_count": 4,
      "metadata": {
        "id": "Ho4cSCLwhI6Y"
      },
      "outputs": [],
      "source": [
        "import numpy as np\n",
        "\n"
      ]
    },
    {
      "cell_type": "code",
      "source": [
        "data=np.array([\n",
        "    [1,2,np.nan],\n",
        "    [4,np.nan,6],\n",
        "    [7,8,9],\n",
        "    [4,np.nan,6],\n",
        "    [np.nan,5,9],\n",
        "])\n",
        "print(\"original data\")\n",
        "print(data)"
      ],
      "metadata": {
        "colab": {
          "base_uri": "https://localhost:8080/"
        },
        "id": "0JrspiAAhgsC",
        "outputId": "61643a64-d20a-4a81-b4c4-5779437e70e9"
      },
      "execution_count": 7,
      "outputs": [
        {
          "output_type": "stream",
          "name": "stdout",
          "text": [
            "original data\n",
            "[[ 1.  2. nan]\n",
            " [ 4. nan  6.]\n",
            " [ 7.  8.  9.]\n",
            " [ 4. nan  6.]\n",
            " [nan  5.  9.]]\n"
          ]
        }
      ]
    },
    {
      "cell_type": "code",
      "source": [
        "#handle missing value\n",
        "col_means=np.nanmean(data,axis=0)\n",
        "indices=np.where(np.isnan(data))\n",
        "data[indices]=np.take(col_means,indices[1])\n",
        "print(\"\\ndata after handling missing value(replacing with column means):0\")\n",
        "print(data)"
      ],
      "metadata": {
        "colab": {
          "base_uri": "https://localhost:8080/"
        },
        "id": "THrfyTs-ho-a",
        "outputId": "2055251e-2656-4fb7-c7d3-c65530971825"
      },
      "execution_count": 8,
      "outputs": [
        {
          "output_type": "stream",
          "name": "stdout",
          "text": [
            "\n",
            "data after handling missing value(replacing with column means):0\n",
            "[[1.  2.  7.5]\n",
            " [4.  5.  6. ]\n",
            " [7.  8.  9. ]\n",
            " [4.  5.  6. ]\n",
            " [4.  5.  9. ]]\n"
          ]
        }
      ]
    },
    {
      "cell_type": "code",
      "source": [
        "#remove duplicate\n",
        "data_unique=np.unique(data,axis=0)\n",
        "print(\"\\n data after removing duplicate\")\n",
        "print(data_unique)"
      ],
      "metadata": {
        "colab": {
          "base_uri": "https://localhost:8080/"
        },
        "id": "-_oscZPnjHKk",
        "outputId": "83f43dfe-a4c7-472c-8c3a-f8e46cc64f50"
      },
      "execution_count": 10,
      "outputs": [
        {
          "output_type": "stream",
          "name": "stdout",
          "text": [
            "\n",
            " data after removing duplicate\n",
            "[[1.  2.  7.5]\n",
            " [4.  5.  6. ]\n",
            " [4.  5.  9. ]\n",
            " [7.  8.  9. ]]\n"
          ]
        }
      ]
    },
    {
      "cell_type": "code",
      "source": [
        "# normalised data (scale to 0-1 range)\n",
        "data_min=np.min(data_unique,axis=0)\n",
        "data_max=np.max(data_unique,axis=0)\n",
        "normalised_data=(data_unique-data_min)/(data_max-data_min)\n",
        "print(\"\\n normalised data scale to 0-1 range\")\n",
        "print(normalised_data)"
      ],
      "metadata": {
        "colab": {
          "base_uri": "https://localhost:8080/"
        },
        "id": "Nu6QrTRJjxXD",
        "outputId": "2d5a3da1-b387-45a0-ea52-336362ef4e24"
      },
      "execution_count": 11,
      "outputs": [
        {
          "output_type": "stream",
          "name": "stdout",
          "text": [
            "\n",
            " normalised data scale to 0-1 range\n",
            "[[0.  0.  0.5]\n",
            " [0.5 0.5 0. ]\n",
            " [0.5 0.5 1. ]\n",
            " [1.  1.  1. ]]\n"
          ]
        }
      ]
    },
    {
      "cell_type": "code",
      "source": [],
      "metadata": {
        "id": "7vKXHpQCk6os"
      },
      "execution_count": null,
      "outputs": []
    },
    {
      "cell_type": "code",
      "source": [],
      "metadata": {
        "id": "LCWauA-LjrSD"
      },
      "execution_count": null,
      "outputs": []
    }
  ]
}